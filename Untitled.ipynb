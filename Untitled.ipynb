{
 "cells": [
  {
   "cell_type": "code",
   "execution_count": 1,
   "metadata": {
    "collapsed": true
   },
   "outputs": [],
   "source": [
    "from bs4 import BeautifulSoup"
   ]
  },
  {
   "cell_type": "code",
   "execution_count": 3,
   "metadata": {
    "collapsed": false
   },
   "outputs": [],
   "source": [
    "soup = BeautifulSoup(open('./printableview.html'), 'lxml')"
   ]
  },
  {
   "cell_type": "code",
   "execution_count": 7,
   "metadata": {
    "collapsed": true
   },
   "outputs": [],
   "source": [
    "tables = soup.findAll('table')"
   ]
  },
  {
   "cell_type": "code",
   "execution_count": 9,
   "metadata": {
    "collapsed": false
   },
   "outputs": [],
   "source": [
    "table8 = tables[8]"
   ]
  },
  {
   "cell_type": "code",
   "execution_count": 15,
   "metadata": {
    "collapsed": false
   },
   "outputs": [
    {
     "name": "stdout",
     "output_type": "stream",
     "text": [
      "<table border=\"0\" cellpadding=\"0\" cellspacing=\"1\">\n",
      " <tbody>\n",
      "  <tr>\n",
      "   <td class=\"Label\">\n",
      "    Elementary:\n",
      "   </td>\n",
      "   <td class=\"value\" nowrap=\"nowrap\">\n",
      "    Winston Campus-elementary (15)\n",
      "   </td>\n",
      "  </tr>\n",
      "  <tr>\n",
      "   <td class=\"Label\">\n",
      "    Junior High:\n",
      "   </td>\n",
      "   <td class=\"value\" nowrap=\"nowrap\">\n",
      "    Winston Campus-junior High (15)\n",
      "   </td>\n",
      "  </tr>\n",
      "  <tr>\n",
      "   <td class=\"Label\">\n",
      "    High School:\n",
      "   </td>\n",
      "   <td class=\"value\" nowrap=\"nowrap\">\n",
      "    Palatine (211)\n",
      "   </td>\n",
      "  </tr>\n",
      "  <tr>\n",
      "   <td class=\"Label\">\n",
      "    Other:\n",
      "   </td>\n",
      "   <td class=\"value\" nowrap=\"nowrap\">\n",
      "   </td>\n",
      "  </tr>\n",
      " </tbody>\n",
      "</table>\n",
      "\n"
     ]
    }
   ],
   "source": [
    "#%%html\n",
    "print table8.prettify()"
   ]
  },
  {
   "cell_type": "code",
   "execution_count": 31,
   "metadata": {
    "collapsed": false
   },
   "outputs": [
    {
     "data": {
      "text/plain": [
       "<td class=\"value\" nowrap=\"nowrap\">Winston Campus-elementary (15) \\xa0</td>"
      ]
     },
     "execution_count": 31,
     "metadata": {},
     "output_type": "execute_result"
    }
   ],
   "source": [
    "my_td = table8.find('td')\n",
    "my_td"
   ]
  },
  {
   "cell_type": "code",
   "execution_count": 32,
   "metadata": {
    "collapsed": false
   },
   "outputs": [
    {
     "data": {
      "text/plain": [
       "u'Winston Campus-elementary (15) \\xa0'"
      ]
     },
     "execution_count": 32,
     "metadata": {},
     "output_type": "execute_result"
    }
   ],
   "source": [
    "my_td.string"
   ]
  },
  {
   "cell_type": "code",
   "execution_count": 33,
   "metadata": {
    "collapsed": false
   },
   "outputs": [
    {
     "data": {
      "text/plain": [
       "<td class=\"value\" nowrap=\"nowrap\">Winston Campus-elementary (15) \\xa0</td>"
      ]
     },
     "execution_count": 33,
     "metadata": {},
     "output_type": "execute_result"
    }
   ],
   "source": [
    "table8.findNext('td')"
   ]
  },
  {
   "cell_type": "code",
   "execution_count": 36,
   "metadata": {
    "collapsed": false
   },
   "outputs": [],
   "source": [
    "td_all = table8.findAll('td')"
   ]
  },
  {
   "cell_type": "code",
   "execution_count": 171,
   "metadata": {
    "collapsed": false
   },
   "outputs": [
    {
     "data": {
      "text/plain": [
       "str"
      ]
     },
     "execution_count": 171,
     "metadata": {},
     "output_type": "execute_result"
    }
   ],
   "source": [
    "type(td_all[0].string.encode('ascii', 'ignore'))"
   ]
  },
  {
   "cell_type": "code",
   "execution_count": 41,
   "metadata": {
    "collapsed": true
   },
   "outputs": [],
   "source": [
    "def find_next_two_in_soup(soup_input, name):\n",
    "    k = soup_input.find_next(name).string\n",
    "    v = soup_input.find_next(name).string\n",
    "    return"
   ]
  },
  {
   "cell_type": "code",
   "execution_count": 42,
   "metadata": {
    "collapsed": false
   },
   "outputs": [
    {
     "data": {
      "text/plain": [
       "bs4.element.ResultSet"
      ]
     },
     "execution_count": 42,
     "metadata": {},
     "output_type": "execute_result"
    }
   ],
   "source": [
    "type(td_all)"
   ]
  },
  {
   "cell_type": "code",
   "execution_count": 123,
   "metadata": {
    "collapsed": false
   },
   "outputs": [
    {
     "data": {
      "text/plain": [
       "[<td class=\"value\" nowrap=\"nowrap\">Winston Campus-elementary (15) \\xa0</td>,\n",
       " <td class=\"Label\">Junior\\xa0High:</td>,\n",
       " <td class=\"value\" nowrap=\"nowrap\">Winston Campus-junior High (15) \\xa0</td>,\n",
       " <td class=\"Label\">High\\xa0School:</td>,\n",
       " <td class=\"value\" nowrap=\"nowrap\">Palatine (211) \\xa0</td>,\n",
       " <td class=\"Label\">Other:</td>,\n",
       " <td class=\"value\" nowrap=\"nowrap\">  \\xa0</td>]"
      ]
     },
     "execution_count": 123,
     "metadata": {},
     "output_type": "execute_result"
    }
   ],
   "source": [
    "td_all"
   ]
  },
  {
   "cell_type": "code",
   "execution_count": 166,
   "metadata": {
    "collapsed": false
   },
   "outputs": [],
   "source": [
    "td0s = td0.string\n",
    "td0s.encode()"
   ]
  },
  {
   "cell_type": "code",
   "execution_count": 130,
   "metadata": {
    "collapsed": false
   },
   "outputs": [
    {
     "ename": "TypeError",
     "evalue": "unsupported operand type(s) for -: 'str' and 'int'",
     "output_type": "error",
     "traceback": [
      "\u001b[0;31m---------------------------------------------------------------------------\u001b[0m",
      "\u001b[0;31mTypeError\u001b[0m                                 Traceback (most recent call last)",
      "\u001b[0;32m<ipython-input-130-a43234ba723e>\u001b[0m in \u001b[0;36m<module>\u001b[0;34m()\u001b[0m\n\u001b[1;32m      3\u001b[0m \u001b[0;34m\u001b[0m\u001b[0m\n\u001b[1;32m      4\u001b[0m \u001b[0mtd0enc\u001b[0m \u001b[0;34m=\u001b[0m \u001b[0mtd0\u001b[0m\u001b[0;34m.\u001b[0m\u001b[0mencode\u001b[0m\u001b[0;34m(\u001b[0m\u001b[0;34m'utf-8'\u001b[0m\u001b[0;34m)\u001b[0m\u001b[0;34m\u001b[0m\u001b[0m\n\u001b[0;32m----> 5\u001b[0;31m \u001b[0mtd0\u001b[0m\u001b[0;34m.\u001b[0m\u001b[0mencode\u001b[0m\u001b[0;34m(\u001b[0m\u001b[0;34m'ascii'\u001b[0m\u001b[0;34m,\u001b[0m \u001b[0;34m'ignore'\u001b[0m\u001b[0;34m)\u001b[0m\u001b[0;34m\u001b[0m\u001b[0m\n\u001b[0m",
      "\u001b[0;32m/Users/benqingshen/anaconda/lib/python2.7/site-packages/bs4/element.pyc\u001b[0m in \u001b[0;36mencode\u001b[0;34m(self, encoding, indent_level, formatter, errors)\u001b[0m\n\u001b[1;32m   1053\u001b[0m         \u001b[0;31m# Turn the data structure into Unicode, then encode the\u001b[0m\u001b[0;34m\u001b[0m\u001b[0;34m\u001b[0m\u001b[0m\n\u001b[1;32m   1054\u001b[0m         \u001b[0;31m# Unicode.\u001b[0m\u001b[0;34m\u001b[0m\u001b[0;34m\u001b[0m\u001b[0m\n\u001b[0;32m-> 1055\u001b[0;31m         \u001b[0mu\u001b[0m \u001b[0;34m=\u001b[0m \u001b[0mself\u001b[0m\u001b[0;34m.\u001b[0m\u001b[0mdecode\u001b[0m\u001b[0;34m(\u001b[0m\u001b[0mindent_level\u001b[0m\u001b[0;34m,\u001b[0m \u001b[0mencoding\u001b[0m\u001b[0;34m,\u001b[0m \u001b[0mformatter\u001b[0m\u001b[0;34m)\u001b[0m\u001b[0;34m\u001b[0m\u001b[0m\n\u001b[0m\u001b[1;32m   1056\u001b[0m         \u001b[0;32mreturn\u001b[0m \u001b[0mu\u001b[0m\u001b[0;34m.\u001b[0m\u001b[0mencode\u001b[0m\u001b[0;34m(\u001b[0m\u001b[0mencoding\u001b[0m\u001b[0;34m,\u001b[0m \u001b[0merrors\u001b[0m\u001b[0;34m)\u001b[0m\u001b[0;34m\u001b[0m\u001b[0m\n\u001b[1;32m   1057\u001b[0m \u001b[0;34m\u001b[0m\u001b[0m\n",
      "\u001b[0;32m/Users/benqingshen/anaconda/lib/python2.7/site-packages/bs4/element.pyc\u001b[0m in \u001b[0;36mdecode\u001b[0;34m(self, indent_level, eventual_encoding, formatter)\u001b[0m\n\u001b[1;32m   1117\u001b[0m         \u001b[0mindent_space\u001b[0m \u001b[0;34m=\u001b[0m \u001b[0;34m''\u001b[0m\u001b[0;34m\u001b[0m\u001b[0m\n\u001b[1;32m   1118\u001b[0m         \u001b[0;32mif\u001b[0m \u001b[0mindent_level\u001b[0m \u001b[0;32mis\u001b[0m \u001b[0;32mnot\u001b[0m \u001b[0mNone\u001b[0m\u001b[0;34m:\u001b[0m\u001b[0;34m\u001b[0m\u001b[0m\n\u001b[0;32m-> 1119\u001b[0;31m             \u001b[0mindent_space\u001b[0m \u001b[0;34m=\u001b[0m \u001b[0;34m(\u001b[0m\u001b[0;34m' '\u001b[0m \u001b[0;34m*\u001b[0m \u001b[0;34m(\u001b[0m\u001b[0mindent_level\u001b[0m \u001b[0;34m-\u001b[0m \u001b[0;36m1\u001b[0m\u001b[0;34m)\u001b[0m\u001b[0;34m)\u001b[0m\u001b[0;34m\u001b[0m\u001b[0m\n\u001b[0m\u001b[1;32m   1120\u001b[0m         \u001b[0;32mif\u001b[0m \u001b[0mpretty_print\u001b[0m\u001b[0;34m:\u001b[0m\u001b[0;34m\u001b[0m\u001b[0m\n\u001b[1;32m   1121\u001b[0m             \u001b[0mspace\u001b[0m \u001b[0;34m=\u001b[0m \u001b[0mindent_space\u001b[0m\u001b[0;34m\u001b[0m\u001b[0m\n",
      "\u001b[0;31mTypeError\u001b[0m: unsupported operand type(s) for -: 'str' and 'int'"
     ]
    }
   ],
   "source": [
    "td0 = td_all[0]\n",
    "td0c = td0.contents\n",
    "\n",
    "td0enc = td0.encode('utf-8')\n",
    "td0.encode('ascii', 'ignore')"
   ]
  },
  {
   "cell_type": "code",
   "execution_count": 140,
   "metadata": {
    "collapsed": false,
    "scrolled": true
   },
   "outputs": [
    {
     "data": {
      "text/plain": [
       "['Winston Campus-elementary (15) ',\n",
       " 'JuniorHigh:',\n",
       " 'Winston Campus-junior High (15) ',\n",
       " 'HighSchool:',\n",
       " 'Palatine (211) ',\n",
       " 'Other:',\n",
       " '  ']"
      ]
     },
     "execution_count": 140,
     "metadata": {},
     "output_type": "execute_result"
    }
   ],
   "source": [
    "[td.string.encode('ascii', 'ignore') for td in td_all]"
   ]
  },
  {
   "cell_type": "code",
   "execution_count": 43,
   "metadata": {
    "collapsed": true
   },
   "outputs": [],
   "source": [
    "import bs4"
   ]
  },
  {
   "cell_type": "code",
   "execution_count": 47,
   "metadata": {
    "collapsed": false
   },
   "outputs": [
    {
     "data": {
      "text/plain": [
       "type"
      ]
     },
     "execution_count": 47,
     "metadata": {},
     "output_type": "execute_result"
    }
   ],
   "source": [
    "bs4.element.ResultSet.__"
   ]
  },
  {
   "cell_type": "code",
   "execution_count": 172,
   "metadata": {
    "collapsed": false
   },
   "outputs": [],
   "source": [
    "def extract_table_cells(table):\n",
    "    td_all = table.find_all('td')\n",
    "    cells = [td.string.encode('ascii', 'ignore') for td in td_all if td.string is not None]\n",
    "    #[ for cell in cells if cell is not None]\n",
    "    return cells"
   ]
  },
  {
   "cell_type": "code",
   "execution_count": 173,
   "metadata": {
    "collapsed": true
   },
   "outputs": [],
   "source": [
    "def kvlist2df(kvlist):\n",
    "    return pd.DataFrame(zip(kvlist[0::2], kvlist[1::2]), columns=['Key', 'Value'])"
   ]
  },
  {
   "cell_type": "code",
   "execution_count": 174,
   "metadata": {
    "collapsed": true
   },
   "outputs": [],
   "source": [
    "def page2df(pagehtml):\n",
    "    soup = BeautifulSoup(open(pagehtml))\n",
    "    tables = soup.findAll('table')\n",
    "    kvs = extract_table_cells(tables[3])\n",
    "    return kvlist2df(kvs[1:])\n",
    "    "
   ]
  },
  {
   "cell_type": "code",
   "execution_count": 177,
   "metadata": {
    "collapsed": false
   },
   "outputs": [],
   "source": [
    "df = page2df('./printableview.html')\n",
    "df.to_csv('temp.csv')\n",
    "#df.ix[0,0]"
   ]
  },
  {
   "cell_type": "code",
   "execution_count": 156,
   "metadata": {
    "collapsed": false
   },
   "outputs": [
    {
     "data": {
      "text/plain": [
       "[u'\\xa0\\xa0\\xa0\\xa0\\xa0\\xa0Attached Single',\n",
       " u'MLS\\xa0#:',\n",
       " u'09077898',\n",
       " u'List\\xa0Price:',\n",
       " u'$300,000',\n",
       " u'Status:',\n",
       " u'PCHG',\n",
       " u'List\\xa0Date:',\n",
       " u'11/02/2015',\n",
       " u'Orig\\xa0List\\xa0Price:',\n",
       " u'$325,000',\n",
       " u'Area:',\n",
       " u'67 \\xa0',\n",
       " u'List\\xa0Dt\\xa0Rec:',\n",
       " u'11/02/2015',\n",
       " u'Sold\\xa0Price:',\n",
       " u'\\xa0',\n",
       " u'\\xa0',\n",
       " u'SP\\xa0Incl. Parking:',\n",
       " u'Yes',\n",
       " u'Address:',\n",
       " u'1446 E Katie Ln , Palatine, Illinois 60067',\n",
       " u'Directions:',\n",
       " u'Northwest Hwy E of 53 to  Williams or to Katie',\n",
       " None,\n",
       " u'Lst.\\xa0Mkt.\\xa0Time:',\n",
       " u'51',\n",
       " u'Closed:',\n",
       " None,\n",
       " u'Contract:',\n",
       " None,\n",
       " u'Points:',\n",
       " None,\n",
       " u'Off\\xa0Mkt:',\n",
       " None,\n",
       " u'Financing:',\n",
       " None,\n",
       " u'Contingency:',\n",
       " None,\n",
       " u'Year\\xa0Built:',\n",
       " u'2005',\n",
       " u'Blt\\xa0Before\\xa078:',\n",
       " u'No',\n",
       " u'Curr.\\xa0Leased:',\n",
       " u'No\\n\\t\\t\\t\\t\\t ',\n",
       " u'Dimensions:',\n",
       " u'COMMON',\n",
       " u'\\xa0',\n",
       " None,\n",
       " u'Ownership:',\n",
       " u'Fee Simple w/ HO Assn.',\n",
       " u'Subdivision:',\n",
       " u'Arlington Station',\n",
       " u'Model:',\n",
       " None,\n",
       " u'Corp\\xa0Limits:',\n",
       " u'Palatine',\n",
       " u'Township:',\n",
       " u'Palatine',\n",
       " u'County:',\n",
       " u'Cook',\n",
       " u'Coordinates:',\n",
       " u'\\n\\t\\t\\t\\t\\t\\t\\t\\t\\t\\t\\t\\tN:14   W:19\\n\\t\\t\\t\\t\\t',\n",
       " u'\\xa0',\n",
       " None,\n",
       " u'#\\xa0Fireplaces:',\n",
       " u'1',\n",
       " u'Rooms:',\n",
       " u'7',\n",
       " u'Bathrooms (Full/Half):',\n",
       " u'2/2',\n",
       " u'Parking:',\n",
       " u'Garage',\n",
       " u'Bedrooms:',\n",
       " u'3',\n",
       " u'Master\\xa0Bath:',\n",
       " u'Full',\n",
       " u'#\\xa0Spaces:',\n",
       " u'\\n\\t\\t\\t\\t\\t\\t\\t\\t\\t\\t\\t\\t\\tGar:2\\t\\t\\t\\t\\t\\t\\t\\t\\t\\t\\t\\t\\t\\t\\t\\t\\t\\t',\n",
       " u'Basement:',\n",
       " u'Full',\n",
       " u'Bsmnt.\\xa0Bath:',\n",
       " u'Yes',\n",
       " u'Parking\\xa0Incl. In\\xa0Price:',\n",
       " u'Yes',\n",
       " u'Waterfront:',\n",
       " u'No',\n",
       " u'Appx\\xa0SF:',\n",
       " u'2120',\n",
       " u'SF\\xa0Source:',\n",
       " u'Assessor',\n",
       " u'Total\\xa0Units:',\n",
       " u'4',\n",
       " u'Unit\\xa0Floor\\xa0Lvl.:',\n",
       " u'1',\n",
       " None,\n",
       " u'#\\xa0Stories:',\n",
       " u'2',\n",
       " u'0',\n",
       " u'%\\xa0Own.\\xa0Occ.:',\n",
       " None,\n",
       " u'%\\xa0Cmn.\\xa0Own.:',\n",
       " None,\n",
       " u'Fees/Approvals:',\n",
       " None]"
      ]
     },
     "execution_count": 156,
     "metadata": {},
     "output_type": "execute_result"
    }
   ],
   "source": [
    "kvs = extract_table_cells(tables[3])\n",
    "#print len(kvs)\n",
    "#print kvs[1:]\n",
    "#kvlist2df(kvs[1:])\n",
    "kvs"
   ]
  },
  {
   "cell_type": "code",
   "execution_count": 102,
   "metadata": {
    "collapsed": false
   },
   "outputs": [
    {
     "data": {
      "text/plain": [
       "[u'Winston Campus-elementary (15) \\xa0',\n",
       " u'Junior\\xa0High:',\n",
       " u'Winston Campus-junior High (15) \\xa0',\n",
       " u'High\\xa0School:',\n",
       " u'Palatine (211) \\xa0',\n",
       " u'Other:',\n",
       " u'  \\xa0']"
      ]
     },
     "execution_count": 102,
     "metadata": {},
     "output_type": "execute_result"
    }
   ],
   "source": [
    "extract_table_cells(table8)"
   ]
  },
  {
   "cell_type": "code",
   "execution_count": 51,
   "metadata": {
    "collapsed": true
   },
   "outputs": [],
   "source": [
    "import pandas as pd"
   ]
  },
  {
   "cell_type": "code",
   "execution_count": 103,
   "metadata": {
    "collapsed": false
   },
   "outputs": [
    {
     "data": {
      "text/plain": [
       "[u'Amount:',\n",
       " u'$282 \\xa0',\n",
       " u'Frequency:',\n",
       " u'Monthly \\xa0',\n",
       " u'Special\\xa0Assessments:',\n",
       " u'No \\xa0',\n",
       " u'Special\\xa0Service\\xa0Area:',\n",
       " u'No ',\n",
       " u'Master\\xa0Association:',\n",
       " u'No ']"
      ]
     },
     "execution_count": 103,
     "metadata": {},
     "output_type": "execute_result"
    }
   ],
   "source": [
    "extract_table_cells(tables[10])"
   ]
  },
  {
   "cell_type": "code",
   "execution_count": 86,
   "metadata": {
    "collapsed": false
   },
   "outputs": [
    {
     "data": {
      "text/plain": [
       "[<td><span class=\"iLabel\">Age:</span><span class=\"value\">6-10 Years, Recent Rehab</span></td>,\n",
       " <td><span class=\"iLabel\">Type:</span><span class=\"value\">Townhouse-2 Story</span></td>,\n",
       " <td><span class=\"iLabel\">Exposure:</span><span class=\"value\">W (West)</span></td>,\n",
       " <td><span class=\"iLabel\">Exterior:</span><span class=\"value\">Brick</span></td>,\n",
       " <td><span class=\"iLabel\">Air\\xa0Cond:</span><span class=\"value\">Central Air</span></td>,\n",
       " <td><span class=\"iLabel\">Heating:</span><span class=\"value\">Gas, Forced Air</span></td>,\n",
       " <td><span class=\"iLabel\">Kitchen:</span><span class=\"value\">Island, Pantry-Closet</span></td>,\n",
       " <td><span class=\"iLabel\">Appliances:</span><span class=\"value\">Oven/Range, Microwave, Dishwasher, Refrigerator, Washer, Dryer</span></td>,\n",
       " <td><span class=\"iLabel\">Dining:</span><span class=\"value\">Combined w/ LivRm</span></td>,\n",
       " <td><span class=\"iLabel\">Bath\\xa0Amn:</span><span class=\"value\">Separate Shower, Double Sink</span></td>,\n",
       " <td><span class=\"iLabel\">Fireplace\\xa0Details:</span><span class=\"value\">Gas Logs</span></td>,\n",
       " <td><span class=\"iLabel\">Fireplace\\xa0Location:</span><span class=\"value\">Living Room</span></td>,\n",
       " <td><span class=\"iLabel\">Electricity:</span><span class=\"value\">Circuit Breakers</span></td>,\n",
       " <td><span class=\"iLabel\">Equipment:</span><span class=\"value\"></span></td>,\n",
       " <td><span class=\"iLabel\">Additional\\xa0Rooms:</span><span class=\"value\">No additional rooms</span></td>]"
      ]
     },
     "execution_count": 86,
     "metadata": {},
     "output_type": "execute_result"
    }
   ],
   "source": [
    "extract_table_cells(tables[15])"
   ]
  },
  {
   "cell_type": "code",
   "execution_count": 72,
   "metadata": {
    "collapsed": false
   },
   "outputs": [
    {
     "data": {
      "text/plain": [
       "20"
      ]
     },
     "execution_count": 72,
     "metadata": {},
     "output_type": "execute_result"
    }
   ],
   "source": [
    "len(tables)"
   ]
  }
 ],
 "metadata": {
  "kernelspec": {
   "display_name": "Python 2",
   "language": "python",
   "name": "python2"
  },
  "language_info": {
   "codemirror_mode": {
    "name": "ipython",
    "version": 2
   },
   "file_extension": ".py",
   "mimetype": "text/x-python",
   "name": "python",
   "nbconvert_exporter": "python",
   "pygments_lexer": "ipython2",
   "version": "2.7.11"
  }
 },
 "nbformat": 4,
 "nbformat_minor": 0
}
