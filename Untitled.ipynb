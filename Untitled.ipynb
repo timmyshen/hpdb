{
 "cells": [
  {
   "cell_type": "code",
   "execution_count": 1,
   "metadata": {
    "collapsed": true
   },
   "outputs": [],
   "source": [
    "from bs4 import BeautifulSoup"
   ]
  },
  {
   "cell_type": "code",
   "execution_count": 2,
   "metadata": {
    "collapsed": false
   },
   "outputs": [],
   "source": [
    "soup = BeautifulSoup(open('./printableview.html'), 'lxml')"
   ]
  },
  {
   "cell_type": "code",
   "execution_count": 3,
   "metadata": {
    "collapsed": true
   },
   "outputs": [],
   "source": [
    "tables = soup.findAll('table')"
   ]
  },
  {
   "cell_type": "code",
   "execution_count": 4,
   "metadata": {
    "collapsed": true
   },
   "outputs": [],
   "source": [
    "table3 = tables[3]"
   ]
  },
  {
   "cell_type": "code",
   "execution_count": 6,
   "metadata": {
    "collapsed": false
   },
   "outputs": [],
   "source": [
    "#table3"
   ]
  },
  {
   "cell_type": "code",
   "execution_count": 8,
   "metadata": {
    "collapsed": false
   },
   "outputs": [
    {
     "data": {
      "text/plain": [
       "bs4.element.ResultSet"
      ]
     },
     "execution_count": 8,
     "metadata": {},
     "output_type": "execute_result"
    }
   ],
   "source": [
    "tds = table3.findAll('td', class_='Label')\n",
    "type(tds)"
   ]
  },
  {
   "cell_type": "code",
   "execution_count": 10,
   "metadata": {
    "collapsed": false
   },
   "outputs": [],
   "source": [
    "tds0 = tds[0]"
   ]
  },
  {
   "cell_type": "code",
   "execution_count": 14,
   "metadata": {
    "collapsed": false
   },
   "outputs": [
    {
     "data": {
      "text/plain": [
       "[<td class=\"Label\">MLS\\xa0#:</td>,\n",
       " <td class=\"Label\">List\\xa0Price:</td>,\n",
       " <td class=\"Label\">Status:</td>,\n",
       " <td class=\"Label\">List\\xa0Date:</td>,\n",
       " <td class=\"Label\">Orig\\xa0List\\xa0Price:</td>,\n",
       " <td class=\"Label\">Area:</td>,\n",
       " <td class=\"Label\">List\\xa0Dt\\xa0Rec:</td>,\n",
       " <td class=\"Label\">Sold\\xa0Price:</td>,\n",
       " <td class=\"Label\">SP\\xa0Incl. Parking:</td>,\n",
       " <td class=\"Label\">Address:</td>,\n",
       " <td class=\"Label\">Directions:</td>,\n",
       " <td class=\"Label\">Lst.\\xa0Mkt.\\xa0Time:</td>,\n",
       " <td class=\"Label\">Closed:</td>,\n",
       " <td class=\"Label\">Contract:</td>,\n",
       " <td class=\"Label\">Points:</td>,\n",
       " <td class=\"Label\">Off\\xa0Mkt:</td>,\n",
       " <td class=\"Label\">Financing:</td>,\n",
       " <td class=\"Label\">Contingency:</td>,\n",
       " <td class=\"Label\">Year\\xa0Built:</td>,\n",
       " <td class=\"Label\">Blt\\xa0Before\\xa078:</td>,\n",
       " <td class=\"Label\">Curr.\\xa0Leased:</td>,\n",
       " <td class=\"Label\">Dimensions:</td>,\n",
       " <td class=\"Label\">\\xa0</td>,\n",
       " <td class=\"Label\">Ownership:</td>,\n",
       " <td class=\"Label\">Subdivision:</td>,\n",
       " <td class=\"Label\">Model:</td>,\n",
       " <td class=\"Label\">Corp\\xa0Limits:</td>,\n",
       " <td class=\"Label\">Township:</td>,\n",
       " <td class=\"Label\">County:</td>,\n",
       " <td class=\"Label\">Coordinates:</td>,\n",
       " <td class=\"Label\">\\xa0</td>,\n",
       " <td class=\"Label\">#\\xa0Fireplaces:</td>,\n",
       " <td class=\"Label\">Rooms:</td>,\n",
       " <td class=\"Label\">Bathrooms (Full/Half):</td>,\n",
       " <td class=\"Label\">Parking:</td>,\n",
       " <td class=\"Label\">Bedrooms:</td>,\n",
       " <td class=\"Label\">Master\\xa0Bath:</td>,\n",
       " <td class=\"Label\">#\\xa0Spaces:</td>,\n",
       " <td class=\"Label\">Basement:</td>,\n",
       " <td class=\"Label\">Bsmnt.\\xa0Bath:</td>,\n",
       " <td class=\"Label\">Parking\\xa0Incl. In\\xa0Price:</td>,\n",
       " <td class=\"Label\">Waterfront:</td>,\n",
       " <td class=\"Label\">Appx\\xa0SF:</td>,\n",
       " <td class=\"Label\">SF\\xa0Source:</td>,\n",
       " <td class=\"Label\">Total\\xa0Units:</td>,\n",
       " <td class=\"Label\">Unit\\xa0Floor\\xa0Lvl.:</td>,\n",
       " <td class=\"Label\" rowspan=\"2\">#\\xa0Days\\xa0for\\xa0\\xa0<br/>Bd\\xa0Apprvl:</td>,\n",
       " <td class=\"Label\">#\\xa0Stories:</td>,\n",
       " <td class=\"Label\">%\\xa0Own.\\xa0Occ.:</td>,\n",
       " <td class=\"Label\">%\\xa0Cmn.\\xa0Own.:</td>,\n",
       " <td class=\"Label\">Fees/Approvals:</td>]"
      ]
     },
     "execution_count": 14,
     "metadata": {},
     "output_type": "execute_result"
    }
   ],
   "source": [
    "tds"
   ]
  },
  {
   "cell_type": "code",
   "execution_count": null,
   "metadata": {
    "collapsed": false
   },
   "outputs": [],
   "source": [
    "table8 = tables[8]"
   ]
  },
  {
   "cell_type": "code",
   "execution_count": null,
   "metadata": {
    "collapsed": false
   },
   "outputs": [],
   "source": [
    "#%%html\n",
    "print table8.prettify()"
   ]
  },
  {
   "cell_type": "code",
   "execution_count": null,
   "metadata": {
    "collapsed": false
   },
   "outputs": [],
   "source": [
    "my_td = table8.find('td')\n",
    "my_td"
   ]
  },
  {
   "cell_type": "code",
   "execution_count": null,
   "metadata": {
    "collapsed": false
   },
   "outputs": [],
   "source": [
    "my_td.string"
   ]
  },
  {
   "cell_type": "code",
   "execution_count": null,
   "metadata": {
    "collapsed": false
   },
   "outputs": [],
   "source": [
    "table8.findNext('td')"
   ]
  },
  {
   "cell_type": "code",
   "execution_count": null,
   "metadata": {
    "collapsed": false
   },
   "outputs": [],
   "source": [
    "td_all = table8.findAll('td')"
   ]
  },
  {
   "cell_type": "code",
   "execution_count": null,
   "metadata": {
    "collapsed": false
   },
   "outputs": [],
   "source": [
    "type(td_all[0].string.encode('ascii', 'ignore'))"
   ]
  },
  {
   "cell_type": "code",
   "execution_count": null,
   "metadata": {
    "collapsed": true
   },
   "outputs": [],
   "source": [
    "def find_next_two_in_soup(soup_input, name):\n",
    "    k = soup_input.find_next(name).string\n",
    "    v = soup_input.find_next(name).string\n",
    "    return"
   ]
  },
  {
   "cell_type": "code",
   "execution_count": null,
   "metadata": {
    "collapsed": false
   },
   "outputs": [],
   "source": [
    "type(td_all)"
   ]
  },
  {
   "cell_type": "code",
   "execution_count": null,
   "metadata": {
    "collapsed": false
   },
   "outputs": [],
   "source": [
    "td_all"
   ]
  },
  {
   "cell_type": "code",
   "execution_count": null,
   "metadata": {
    "collapsed": false
   },
   "outputs": [],
   "source": [
    "td0s = td0.string\n",
    "td0s.encode()"
   ]
  },
  {
   "cell_type": "code",
   "execution_count": null,
   "metadata": {
    "collapsed": false
   },
   "outputs": [],
   "source": [
    "td0 = td_all[0]\n",
    "td0c = td0.contents\n",
    "\n",
    "td0enc = td0.encode('utf-8')\n",
    "td0.encode('ascii', 'ignore')"
   ]
  },
  {
   "cell_type": "code",
   "execution_count": null,
   "metadata": {
    "collapsed": false,
    "scrolled": true
   },
   "outputs": [],
   "source": [
    "[td.string.encode('ascii', 'ignore') for td in td_all]"
   ]
  },
  {
   "cell_type": "code",
   "execution_count": null,
   "metadata": {
    "collapsed": true
   },
   "outputs": [],
   "source": [
    "import bs4"
   ]
  },
  {
   "cell_type": "code",
   "execution_count": null,
   "metadata": {
    "collapsed": false
   },
   "outputs": [],
   "source": [
    "bs4.element.ResultSet.__"
   ]
  },
  {
   "cell_type": "code",
   "execution_count": null,
   "metadata": {
    "collapsed": false
   },
   "outputs": [],
   "source": [
    "def extract_table_cells(table):\n",
    "    td_all = table.find_all('td')\n",
    "    cells = [td.string.encode('ascii', 'ignore') for td in td_all if td.string is not None]\n",
    "    #[ for cell in cells if cell is not None]\n",
    "    return cells"
   ]
  },
  {
   "cell_type": "code",
   "execution_count": null,
   "metadata": {
    "collapsed": true
   },
   "outputs": [],
   "source": [
    "def kvlist2df(kvlist):\n",
    "    return pd.DataFrame(zip(kvlist[0::2], kvlist[1::2]), columns=['Key', 'Value'])"
   ]
  },
  {
   "cell_type": "code",
   "execution_count": null,
   "metadata": {
    "collapsed": true
   },
   "outputs": [],
   "source": [
    "def page2df(pagehtml):\n",
    "    soup = BeautifulSoup(open(pagehtml))\n",
    "    tables = soup.findAll('table')\n",
    "    kvs = extract_table_cells(tables[3])\n",
    "    return kvlist2df(kvs[1:])\n",
    "    "
   ]
  },
  {
   "cell_type": "code",
   "execution_count": null,
   "metadata": {
    "collapsed": false
   },
   "outputs": [],
   "source": [
    "df = page2df('./printableview.html')\n",
    "df.to_csv('temp.csv')\n",
    "#df.ix[0,0]"
   ]
  },
  {
   "cell_type": "code",
   "execution_count": null,
   "metadata": {
    "collapsed": false
   },
   "outputs": [],
   "source": [
    "kvs = extract_table_cells(tables[3])\n",
    "#print len(kvs)\n",
    "#print kvs[1:]\n",
    "#kvlist2df(kvs[1:])\n",
    "kvs"
   ]
  },
  {
   "cell_type": "code",
   "execution_count": null,
   "metadata": {
    "collapsed": false
   },
   "outputs": [],
   "source": [
    "extract_table_cells(table8)"
   ]
  },
  {
   "cell_type": "code",
   "execution_count": null,
   "metadata": {
    "collapsed": true
   },
   "outputs": [],
   "source": [
    "import pandas as pd"
   ]
  },
  {
   "cell_type": "code",
   "execution_count": null,
   "metadata": {
    "collapsed": false
   },
   "outputs": [],
   "source": [
    "extract_table_cells(tables[10])"
   ]
  },
  {
   "cell_type": "code",
   "execution_count": null,
   "metadata": {
    "collapsed": false
   },
   "outputs": [],
   "source": [
    "extract_table_cells(tables[15])"
   ]
  },
  {
   "cell_type": "code",
   "execution_count": null,
   "metadata": {
    "collapsed": false
   },
   "outputs": [],
   "source": [
    "len(tables)"
   ]
  }
 ],
 "metadata": {
  "kernelspec": {
   "display_name": "Python 2",
   "language": "python",
   "name": "python2"
  },
  "language_info": {
   "codemirror_mode": {
    "name": "ipython",
    "version": 2
   },
   "file_extension": ".py",
   "mimetype": "text/x-python",
   "name": "python",
   "nbconvert_exporter": "python",
   "pygments_lexer": "ipython2",
   "version": "2.7.11"
  }
 },
 "nbformat": 4,
 "nbformat_minor": 0
}
